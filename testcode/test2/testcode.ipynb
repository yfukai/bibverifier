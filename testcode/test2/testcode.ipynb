{
 "cells": [
  {
   "cell_type": "code",
   "execution_count": null,
   "metadata": {},
   "outputs": [
    {
     "ename": "",
     "evalue": "",
     "output_type": "error",
     "traceback": [
      "\u001b[1;31mThe kernel failed to start as the Python Environment '.venv' is no longer available. Consider selecting another kernel or refreshing the list of Python Environments."
     ]
    }
   ],
   "source": [
    "from crossref.restful import Works\n",
    "import re\n",
    "import pandas as pd\n",
    "import time\n",
    "import requests\n",
    "\n",
    "from citeproc import CitationStylesStyle, CitationStylesBibliography\n",
    "from citeproc import Citation, CitationItem\n",
    "from citeproc import formatter\n",
    "from citeproc.source.json import CiteProcJSON\n",
    "from tqdm import tqdm"
   ]
  },
  {
   "cell_type": "code",
   "execution_count": 2,
   "metadata": {},
   "outputs": [],
   "source": [
    "bibnumber_pattern = \"^([0-9]+\\.|\\[[0-9]+\\]|\\(.+\\))\\s+\"\n",
    "delay = 0.5"
   ]
  },
  {
   "cell_type": "code",
   "execution_count": 3,
   "metadata": {},
   "outputs": [],
   "source": [
    "input_file_path = \"./testdata.txt\"\n",
    "bibliography_lines = []\n",
    "bibnumbers = []\n",
    "with open(input_file_path,\"r\") as f:\n",
    "    for l in f:\n",
    "        bibnumber = re.search(bibnumber_pattern,l).groups()\n",
    "        assert len(bibnumber) <= 1\n",
    "        bibnumber = bibnumber[0] if len(bibnumber) == 1 else \"\"\n",
    "        bibnumbers.append(bibnumber)\n",
    "        bibliography_lines.append(l.replace(bibnumber,\"\").strip())\n",
    "bibliography_df = pd.DataFrame({\"bibnumber\":bibnumbers,\"bibliography\":bibliography_lines})"
   ]
  },
  {
   "cell_type": "code",
   "execution_count": 4,
   "metadata": {},
   "outputs": [
    {
     "data": {
      "text/html": [
       "<div>\n",
       "<style scoped>\n",
       "    .dataframe tbody tr th:only-of-type {\n",
       "        vertical-align: middle;\n",
       "    }\n",
       "\n",
       "    .dataframe tbody tr th {\n",
       "        vertical-align: top;\n",
       "    }\n",
       "\n",
       "    .dataframe thead th {\n",
       "        text-align: right;\n",
       "    }\n",
       "</style>\n",
       "<table border=\"1\" class=\"dataframe\">\n",
       "  <thead>\n",
       "    <tr style=\"text-align: right;\">\n",
       "      <th></th>\n",
       "      <th>bibnumber</th>\n",
       "      <th>bibliography</th>\n",
       "    </tr>\n",
       "  </thead>\n",
       "  <tbody>\n",
       "    <tr>\n",
       "      <th>0</th>\n",
       "      <td>1.</td>\n",
       "      <td>Barresi M J F and Gilbert S F (2019) Developme...</td>\n",
       "    </tr>\n",
       "    <tr>\n",
       "      <th>1</th>\n",
       "      <td>2.</td>\n",
       "      <td>Ladoux B and Mège R-M (2017) Mechanobiology of...</td>\n",
       "    </tr>\n",
       "    <tr>\n",
       "      <th>2</th>\n",
       "      <td>3.</td>\n",
       "      <td>Hollandi R, Moshkov N, Paavolainen L, Tasnadi ...</td>\n",
       "    </tr>\n",
       "    <tr>\n",
       "      <th>3</th>\n",
       "      <td>4.</td>\n",
       "      <td>Maška M, Ulman V, Delgado-Rodriguez P, Gómez-d...</td>\n",
       "    </tr>\n",
       "    <tr>\n",
       "      <th>4</th>\n",
       "      <td>5.</td>\n",
       "      <td>Anlaş A A and Nelson C M (2018) Tissue mechani...</td>\n",
       "    </tr>\n",
       "  </tbody>\n",
       "</table>\n",
       "</div>"
      ],
      "text/plain": [
       "  bibnumber                                       bibliography\n",
       "0        1.  Barresi M J F and Gilbert S F (2019) Developme...\n",
       "1        2.  Ladoux B and Mège R-M (2017) Mechanobiology of...\n",
       "2        3.  Hollandi R, Moshkov N, Paavolainen L, Tasnadi ...\n",
       "3        4.  Maška M, Ulman V, Delgado-Rodriguez P, Gómez-d...\n",
       "4        5.  Anlaş A A and Nelson C M (2018) Tissue mechani..."
      ]
     },
     "execution_count": 4,
     "metadata": {},
     "output_type": "execute_result"
    }
   ],
   "source": [
    "bibliography_df.head()"
   ]
  },
  {
   "cell_type": "code",
   "execution_count": 5,
   "metadata": {},
   "outputs": [],
   "source": [
    "works = Works()"
   ]
  },
  {
   "cell_type": "code",
   "execution_count": 6,
   "metadata": {},
   "outputs": [
    {
     "name": "stderr",
     "output_type": "stream",
     "text": [
      "100%|██████████| 1/1 [00:01<00:00,  1.79s/it]\n"
     ]
    }
   ],
   "source": [
    "for line in tqdm(bibliography_lines[3:4]):\n",
    "    query = works.query(bibliographic=line).sort('relevance').select(\"DOI\")\n",
    "    #query.custom_header.update({\"Accept\": \"application/vnd.citationstyles.csl+json\"})\n",
    "    res = [r for _,r in zip(range(2),query)]\n",
    "    time.sleep(delay)"
   ]
  },
  {
   "cell_type": "code",
   "execution_count": 7,
   "metadata": {},
   "outputs": [
    {
     "data": {
      "text/plain": [
       "'Maška M, Ulman V, Delgado-Rodriguez P, Gómez-de-Mariscal E, Nečasová T, Guerrero Peña FA, Ren TI, Meyerowitz EM, Scherr T, Löffler K, and Mikut R (2023) The cell tracking challenge: 10 years of objective benchmarking. Nat. Methods 20: 1–11.'"
      ]
     },
     "execution_count": 7,
     "metadata": {},
     "output_type": "execute_result"
    }
   ],
   "source": [
    "line"
   ]
  },
  {
   "cell_type": "code",
   "execution_count": 8,
   "metadata": {},
   "outputs": [
    {
     "data": {
      "text/plain": [
       "[{'DOI': '10.1038/s41592-023-01879-y'}, {'DOI': '10.1101/2021.06.26.450019'}]"
      ]
     },
     "execution_count": 8,
     "metadata": {},
     "output_type": "execute_result"
    }
   ],
   "source": [
    "res"
   ]
  },
  {
   "cell_type": "code",
   "execution_count": 9,
   "metadata": {},
   "outputs": [
    {
     "name": "stderr",
     "output_type": "stream",
     "text": [
      "100%|██████████| 2/2 [00:03<00:00,  1.86s/it]\n"
     ]
    }
   ],
   "source": [
    "r = res[0]\n",
    "headers = {\n",
    "    \"Accept\": \"application/vnd.citationstyles.csl+json\"\n",
    "}\n",
    "\n",
    "csl_json_data = []\n",
    "for r in tqdm(res):\n",
    "    d = requests.get(f\"http://doi.org/{r['DOI']}\", headers = headers)\n",
    "    if d.status_code == 200:\n",
    "        csl_json_data.append(d.json())\n",
    "    time.sleep(delay)"
   ]
  },
  {
   "cell_type": "code",
   "execution_count": 10,
   "metadata": {},
   "outputs": [],
   "source": [
    "import json\n",
    "with open(\"testdata-csl.json\",\"w\") as f:\n",
    "    json.dump(csl_json_data,f)"
   ]
  },
  {
   "cell_type": "code",
   "execution_count": 13,
   "metadata": {},
   "outputs": [],
   "source": [
    "d[\"type\"]=\"article-journal\""
   ]
  },
  {
   "cell_type": "code",
   "execution_count": 15,
   "metadata": {},
   "outputs": [
    {
     "name": "stdout",
     "output_type": "stream",
     "text": [
      "1. Maška M, Ulman V, Delgado-Rodriguez P, Gómez-de-Mariscal E, Nečasová T, Guerrero Peña F A, Ren T I, Meyerowitz E M, Scherr T, Löffler K, et al. (2023) The Cell Tracking Challenge: 10 years of objective benchmarking. Nat Methods 20: 1010–1020\n"
     ]
    }
   ],
   "source": [
    "for d in csl_json_data:\n",
    "    d[\"id\"] = d[\"DOI\"]\n",
    "bib_source = CiteProcJSON(csl_json_data)\n",
    "bib_style2 = CitationStylesStyle(\"./microscopy.csl\", validate=False)\n",
    "bibliography = CitationStylesBibliography(bib_style2, bib_source, formatter.plain)\n",
    "\n",
    "c = Citation([CitationItem(csl_json_data[0][\"id\"])])\n",
    "bibliography.register(c)\n",
    "bibliography.cite(c, lambda x: print(x))\n",
    "for item in bibliography.bibliography():\n",
    "    print(str(item))"
   ]
  },
  {
   "cell_type": "code",
   "execution_count": null,
   "metadata": {},
   "outputs": [],
   "source": []
  },
  {
   "cell_type": "code",
   "execution_count": null,
   "metadata": {},
   "outputs": [],
   "source": []
  },
  {
   "cell_type": "code",
   "execution_count": null,
   "metadata": {},
   "outputs": [],
   "source": []
  },
  {
   "cell_type": "code",
   "execution_count": null,
   "metadata": {},
   "outputs": [],
   "source": []
  }
 ],
 "metadata": {
  "kernelspec": {
   "display_name": ".venv",
   "language": "python",
   "name": "python3"
  },
  "language_info": {
   "codemirror_mode": {
    "name": "ipython",
    "version": 3
   },
   "file_extension": ".py",
   "mimetype": "text/x-python",
   "name": "python",
   "nbconvert_exporter": "python",
   "pygments_lexer": "ipython3",
   "version": "3.10.11"
  }
 },
 "nbformat": 4,
 "nbformat_minor": 2
}
