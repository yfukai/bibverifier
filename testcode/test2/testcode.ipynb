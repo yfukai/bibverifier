{
 "cells": [
  {
   "cell_type": "code",
   "execution_count": 68,
   "metadata": {},
   "outputs": [],
   "source": [
    "from crossref.restful import Works\n",
    "import re\n",
    "import pandas as pd\n",
    "import os\n",
    "import time\n",
    "import requests\n",
    "\n",
    "from citeproc import CitationStylesStyle, CitationStylesBibliography\n",
    "from citeproc import Citation, CitationItem\n",
    "from citeproc import formatter\n",
    "from citeproc.source.json import CiteProcJSON\n",
    "import numpy as np\n",
    "from tqdm import tqdm\n",
    "import warnings\n",
    "import json\n",
    "\n",
    "CSL_JSON_HEADER = {\n",
    "        \"Accept\": \"application/vnd.citationstyles.csl+json\"\n",
    "}"
   ]
  },
  {
   "cell_type": "code",
   "execution_count": 69,
   "metadata": {},
   "outputs": [],
   "source": [
    "bibnumber_pattern = \"^([0-9]+\\.|\\[[0-9]+\\]|\\(.+\\))\\s+\"\n",
    "delay = 0.25\n",
    "output_dir = \"output\"\n",
    "os.makedirs(output_dir, exist_ok=True)"
   ]
  },
  {
   "cell_type": "code",
   "execution_count": 52,
   "metadata": {},
   "outputs": [],
   "source": [
    "input_file_path = \"./testdata.txt\"\n",
    "bibliography_lines = []\n",
    "bibnumbers = []\n",
    "with open(input_file_path,\"r\") as f:\n",
    "    for l in f:\n",
    "        bibnumber = re.search(bibnumber_pattern,l).groups()\n",
    "        assert len(bibnumber) <= 1\n",
    "        bibnumber = bibnumber[0] if len(bibnumber) == 1 else \"\"\n",
    "        bibnumbers.append(bibnumber)\n",
    "        bibliography_lines.append(l.replace(bibnumber,\"\").strip())\n",
    "bibliography_df = pd.DataFrame({\"bibnumber\":bibnumbers,\"bibliography\":bibliography_lines})"
   ]
  },
  {
   "cell_type": "code",
   "execution_count": 53,
   "metadata": {},
   "outputs": [
    {
     "data": {
      "text/html": [
       "<div>\n",
       "<style scoped>\n",
       "    .dataframe tbody tr th:only-of-type {\n",
       "        vertical-align: middle;\n",
       "    }\n",
       "\n",
       "    .dataframe tbody tr th {\n",
       "        vertical-align: top;\n",
       "    }\n",
       "\n",
       "    .dataframe thead th {\n",
       "        text-align: right;\n",
       "    }\n",
       "</style>\n",
       "<table border=\"1\" class=\"dataframe\">\n",
       "  <thead>\n",
       "    <tr style=\"text-align: right;\">\n",
       "      <th></th>\n",
       "      <th>bibnumber</th>\n",
       "      <th>bibliography</th>\n",
       "    </tr>\n",
       "  </thead>\n",
       "  <tbody>\n",
       "    <tr>\n",
       "      <th>0</th>\n",
       "      <td>1.</td>\n",
       "      <td>Barresi M J F and Gilbert S F (2019) Developme...</td>\n",
       "    </tr>\n",
       "    <tr>\n",
       "      <th>1</th>\n",
       "      <td>2.</td>\n",
       "      <td>Ladoux B and Mège R-M (2017) Mechanobiology of...</td>\n",
       "    </tr>\n",
       "    <tr>\n",
       "      <th>2</th>\n",
       "      <td>3.</td>\n",
       "      <td>Hollandi R, Moshkov N, Paavolainen L, Tasnadi ...</td>\n",
       "    </tr>\n",
       "    <tr>\n",
       "      <th>3</th>\n",
       "      <td>4.</td>\n",
       "      <td>Maška M, Ulman V, Delgado-Rodriguez P, Gómez-d...</td>\n",
       "    </tr>\n",
       "    <tr>\n",
       "      <th>4</th>\n",
       "      <td>5.</td>\n",
       "      <td>Anlaş A A and Nelson C M (2018) Tissue mechani...</td>\n",
       "    </tr>\n",
       "  </tbody>\n",
       "</table>\n",
       "</div>"
      ],
      "text/plain": [
       "  bibnumber                                       bibliography\n",
       "0        1.  Barresi M J F and Gilbert S F (2019) Developme...\n",
       "1        2.  Ladoux B and Mège R-M (2017) Mechanobiology of...\n",
       "2        3.  Hollandi R, Moshkov N, Paavolainen L, Tasnadi ...\n",
       "3        4.  Maška M, Ulman V, Delgado-Rodriguez P, Gómez-d...\n",
       "4        5.  Anlaş A A and Nelson C M (2018) Tissue mechani..."
      ]
     },
     "execution_count": 53,
     "metadata": {},
     "output_type": "execute_result"
    }
   ],
   "source": [
    "bibliography_df.head()"
   ]
  },
  {
   "cell_type": "code",
   "execution_count": 54,
   "metadata": {},
   "outputs": [],
   "source": [
    "works = Works()"
   ]
  },
  {
   "cell_type": "code",
   "execution_count": 56,
   "metadata": {},
   "outputs": [
    {
     "name": "stderr",
     "output_type": "stream",
     "text": [
      "100%|██████████| 188/188 [17:10<00:00,  5.48s/it]\n"
     ]
    }
   ],
   "source": [
    "for i, row in tqdm(list(bibliography_df.iterrows())):\n",
    "    line = row[\"bibliography\"]\n",
    "    query = works.query(bibliographic=line).sort('relevance').select(\"DOI\")\n",
    "    res = [r for _,r in zip(range(2),query)]\n",
    "    time.sleep(delay)\n",
    "\n",
    "    csl_json_data = []\n",
    "    for r in res:\n",
    "        d = requests.get(f\"http://doi.org/{r['DOI']}\", headers = CSL_JSON_HEADER)\n",
    "        if d.status_code == 200:\n",
    "            csl_json_data.append(d.json())\n",
    "        time.sleep(delay)\n",
    "    bibliography_df.loc[i,\"csl_json_data\"] = json.dumps(csl_json_data)\n",
    "bibliography_df.to_csv(\"testdata_csl_json.csv\")"
   ]
  },
  {
   "cell_type": "code",
   "execution_count": 71,
   "metadata": {},
   "outputs": [],
   "source": [
    "def _calc_similarity(b1,b2):\n",
    "    s1 = set(b1.split())\n",
    "    s2 = set(b2.split())\n",
    "#    print(s1.union(s2))\n",
    "#    print(s1.intersection(s2))\n",
    "    return len(s1.intersection(s2))/len(s1.union(s2))"
   ]
  },
  {
   "cell_type": "code",
   "execution_count": 93,
   "metadata": {},
   "outputs": [],
   "source": [
    "bib_style = CitationStylesStyle(\"./microscopy.csl\", validate=False)\n",
    "for i, row in bibliography_df.iterrows():\n",
    "    csl_json_data = json.loads(row[\"csl_json_data\"])\n",
    "    for d in csl_json_data:\n",
    "        d[\"id\"] = d[\"DOI\"]\n",
    "    with warnings.catch_warnings():\n",
    "        warnings.simplefilter(\"ignore\", UserWarning)\n",
    "        try:\n",
    "            bib_source = CiteProcJSON(csl_json_data)\n",
    "        except:\n",
    "            row[\"formatted_bibliography\"] = \"\"\n",
    "            continue\n",
    "    bibliography = CitationStylesBibliography(bib_style, bib_source, formatter.plain)\n",
    "    for d in csl_json_data:\n",
    "        c = Citation([CitationItem(d[\"id\"])])\n",
    "        bibliography.register(c)\n",
    "    \n",
    "    formatted_bibliography = []\n",
    "    scores = []\n",
    "    for item in bibliography.bibliography():\n",
    "        formatted = re.sub(bibnumber_pattern,\"\",str(item)).strip()\n",
    "        formatted_bibliography.append(formatted)\n",
    "        scores.append(_calc_similarity(row[\"bibliography\"],formatted))\n",
    "    bibliography_df.loc[i,\"formatted_bibliography\"] = formatted_bibliography[np.argmax(scores)].replace(\"\\n\",\" \")"
   ]
  },
  {
   "cell_type": "code",
   "execution_count": 94,
   "metadata": {},
   "outputs": [],
   "source": [
    "inputted_bibliography_path = os.path.join(output_dir,\"inputted_bibliography.txt\")\n",
    "searched_bibliography_path = os.path.join(output_dir,\"searched_bibliography.txt\")\n",
    "with open(inputted_bibliography_path,\"w\") as f1, open(searched_bibliography_path,\"w\") as f2:\n",
    "    for i, row in bibliography_df.iterrows():\n",
    "        bibnumber = row[\"bibnumber\"] + \" \" if row[\"bibnumber\"] != \"\" else \"\"\n",
    "        f1.write(bibnumber+row[\"bibliography\"]+\"\\n\")\n",
    "        f2.write(bibnumber+row[\"formatted_bibliography\"]+\"\\n\")"
   ]
  },
  {
   "cell_type": "code",
   "execution_count": 102,
   "metadata": {},
   "outputs": [],
   "source": [
    "container_titles = []\n",
    "container_titles_short = []\n",
    "for i, row in bibliography_df.iterrows():\n",
    "    csl_json_data = json.loads(row[\"csl_json_data\"])\n",
    "    for d in csl_json_data:\n",
    "        if \"container-title\" in d and \"container-title-short\" in d:\n",
    "            container_titles.append(d[\"container-title\"])\n",
    "            container_titles_short.append(d[\"container-title-short\"])\n",
    "container_df = pd.DataFrame({\"container-title\":container_titles,\"container-title-short\":container_titles_short})"
   ]
  },
  {
   "cell_type": "code",
   "execution_count": 105,
   "metadata": {},
   "outputs": [],
   "source": [
    "container_df.drop_duplicates().to_csv(os.path.join(output_dir,\"container_titles.csv\"),index=False)"
   ]
  },
  {
   "cell_type": "code",
   "execution_count": null,
   "metadata": {},
   "outputs": [],
   "source": []
  },
  {
   "cell_type": "code",
   "execution_count": null,
   "metadata": {},
   "outputs": [],
   "source": []
  },
  {
   "cell_type": "code",
   "execution_count": null,
   "metadata": {},
   "outputs": [],
   "source": []
  }
 ],
 "metadata": {
  "kernelspec": {
   "display_name": ".venv",
   "language": "python",
   "name": "python3"
  },
  "language_info": {
   "codemirror_mode": {
    "name": "ipython",
    "version": 3
   },
   "file_extension": ".py",
   "mimetype": "text/x-python",
   "name": "python",
   "nbconvert_exporter": "python",
   "pygments_lexer": "ipython3",
   "version": "3.10.11"
  }
 },
 "nbformat": 4,
 "nbformat_minor": 2
}
