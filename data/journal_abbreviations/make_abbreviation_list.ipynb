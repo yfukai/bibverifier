{
 "cells": [
  {
   "cell_type": "code",
   "execution_count": 2,
   "metadata": {},
   "outputs": [
    {
     "name": "stdout",
     "output_type": "stream",
     "text": [
      "(('__label__ar',), array([0.98124713]))\n"
     ]
    }
   ],
   "source": [
    "import fasttext\n",
    "model = fasttext.load_model('lid.176.ftz')\n",
    "print(model.predict('الشمس تشرق', k=1))  # top 2 matching languages"
   ]
  },
  {
   "cell_type": "code",
   "execution_count": 3,
   "metadata": {},
   "outputs": [
    {
     "data": {
      "text/plain": [
       "(('__label__ja',), array([0.99440062]))"
      ]
     },
     "execution_count": 3,
     "metadata": {},
     "output_type": "execute_result"
    }
   ],
   "source": [
    "import pandas as pd\n",
    "from tqdm import tqdm\n",
    "tqdm.pandas()\n",
    "model.predict('今一はお前さん')"
   ]
  },
  {
   "cell_type": "code",
   "execution_count": 59,
   "metadata": {},
   "outputs": [],
   "source": [
    "journal_df = pd.read_csv(\"titleFile.csv\",comment=\"#\").rename(columns={\"(year1)[volume1]issue1,issue2,issue3(year2)[volume2]issue4,issues5\":\"yearissues\"})\n",
    "journal_df = journal_df.dropna(subset=['JournalTitle'])"
   ]
  },
  {
   "cell_type": "code",
   "execution_count": 60,
   "metadata": {},
   "outputs": [
    {
     "data": {
      "text/html": [
       "<div>\n",
       "<style scoped>\n",
       "    .dataframe tbody tr th:only-of-type {\n",
       "        vertical-align: middle;\n",
       "    }\n",
       "\n",
       "    .dataframe tbody tr th {\n",
       "        vertical-align: top;\n",
       "    }\n",
       "\n",
       "    .dataframe thead th {\n",
       "        text-align: right;\n",
       "    }\n",
       "</style>\n",
       "<table border=\"1\" class=\"dataframe\">\n",
       "  <thead>\n",
       "    <tr style=\"text-align: right;\">\n",
       "      <th></th>\n",
       "      <th>JournalTitle</th>\n",
       "      <th>JournalID</th>\n",
       "      <th>Publisher</th>\n",
       "      <th>pissn</th>\n",
       "      <th>eissn</th>\n",
       "      <th>additionalIssns</th>\n",
       "      <th>doi</th>\n",
       "      <th>yearissues</th>\n",
       "    </tr>\n",
       "  </thead>\n",
       "  <tbody>\n",
       "    <tr>\n",
       "      <th>0</th>\n",
       "      <td>ACTUALITĂŢI ŞI PERSPECTIVE ÎN DOMENIUL MAŞINIL...</td>\n",
       "      <td>378722</td>\n",
       "      <td>Universitatea Politechnica din Bucuresti</td>\n",
       "      <td>18435912</td>\n",
       "      <td>18435912</td>\n",
       "      <td>NaN</td>\n",
       "      <td>10.36801/apme</td>\n",
       "      <td>(2014)[2014](2015)[2015](2016)[2016](2017)[201...</td>\n",
       "    </tr>\n",
       "    <tr>\n",
       "      <th>1</th>\n",
       "      <td>Analele Universității din Craiova seria Psihol...</td>\n",
       "      <td>469174</td>\n",
       "      <td>University of Craiova</td>\n",
       "      <td>1582313X</td>\n",
       "      <td>26686678</td>\n",
       "      <td>NaN</td>\n",
       "      <td>10.52846/AUCPP</td>\n",
       "      <td>\"(2022)[44]1,2(2023)[45]1()[]\"</td>\n",
       "    </tr>\n",
       "    <tr>\n",
       "      <th>2</th>\n",
       "      <td>Annals of the University of Craiova - Agricult...</td>\n",
       "      <td>465848</td>\n",
       "      <td>University of Craiova</td>\n",
       "      <td>NaN</td>\n",
       "      <td>18418317</td>\n",
       "      <td>NaN</td>\n",
       "      <td>10.52846/AAMC</td>\n",
       "      <td>\"(2020)[51]1,2(2022)[52]1(2023)[52]1,2[53]1,2(...</td>\n",
       "    </tr>\n",
       "    <tr>\n",
       "      <th>3</th>\n",
       "      <td>Arterial’naya Gipertenziya (Arterial Hypertens...</td>\n",
       "      <td>296095</td>\n",
       "      <td>Arterialnaya Gipertenziya</td>\n",
       "      <td>1607419X</td>\n",
       "      <td>24118524</td>\n",
       "      <td>NaN</td>\n",
       "      <td>NaN</td>\n",
       "      <td>\"(2003)[9]1,2,3,4,5,6(2004)[10]1,2,3(2005)[11]...</td>\n",
       "    </tr>\n",
       "    <tr>\n",
       "      <th>4</th>\n",
       "      <td>Austin Journal of Analytical and Pharmaceutica...</td>\n",
       "      <td>501623</td>\n",
       "      <td>Austin Publishing Group</td>\n",
       "      <td>NaN</td>\n",
       "      <td>NaN</td>\n",
       "      <td>NaN</td>\n",
       "      <td>10.26420/austinjanalpharmchem</td>\n",
       "      <td>(2022)[9]3()[]</td>\n",
       "    </tr>\n",
       "  </tbody>\n",
       "</table>\n",
       "</div>"
      ],
      "text/plain": [
       "                                        JournalTitle  JournalID  \\\n",
       "0  ACTUALITĂŢI ŞI PERSPECTIVE ÎN DOMENIUL MAŞINIL...     378722   \n",
       "1  Analele Universității din Craiova seria Psihol...     469174   \n",
       "2  Annals of the University of Craiova - Agricult...     465848   \n",
       "3  Arterial’naya Gipertenziya (Arterial Hypertens...     296095   \n",
       "4  Austin Journal of Analytical and Pharmaceutica...     501623   \n",
       "\n",
       "                                  Publisher     pissn     eissn  \\\n",
       "0  Universitatea Politechnica din Bucuresti  18435912  18435912   \n",
       "1                     University of Craiova  1582313X  26686678   \n",
       "2                     University of Craiova       NaN  18418317   \n",
       "3                 Arterialnaya Gipertenziya  1607419X  24118524   \n",
       "4                   Austin Publishing Group       NaN       NaN   \n",
       "\n",
       "  additionalIssns                            doi  \\\n",
       "0             NaN                  10.36801/apme   \n",
       "1             NaN                 10.52846/AUCPP   \n",
       "2             NaN                  10.52846/AAMC   \n",
       "3             NaN                            NaN   \n",
       "4             NaN  10.26420/austinjanalpharmchem   \n",
       "\n",
       "                                          yearissues  \n",
       "0  (2014)[2014](2015)[2015](2016)[2016](2017)[201...  \n",
       "1                     \"(2022)[44]1,2(2023)[45]1()[]\"  \n",
       "2  \"(2020)[51]1,2(2022)[52]1(2023)[52]1,2[53]1,2(...  \n",
       "3  \"(2003)[9]1,2,3,4,5,6(2004)[10]1,2,3(2005)[11]...  \n",
       "4                                     (2022)[9]3()[]  "
      ]
     },
     "execution_count": 60,
     "metadata": {},
     "output_type": "execute_result"
    }
   ],
   "source": [
    "journal_df.head()"
   ]
  },
  {
   "cell_type": "code",
   "execution_count": 61,
   "metadata": {},
   "outputs": [
    {
     "data": {
      "text/html": [
       "<div>\n",
       "<style scoped>\n",
       "    .dataframe tbody tr th:only-of-type {\n",
       "        vertical-align: middle;\n",
       "    }\n",
       "\n",
       "    .dataframe tbody tr th {\n",
       "        vertical-align: top;\n",
       "    }\n",
       "\n",
       "    .dataframe thead th {\n",
       "        text-align: right;\n",
       "    }\n",
       "</style>\n",
       "<table border=\"1\" class=\"dataframe\">\n",
       "  <thead>\n",
       "    <tr style=\"text-align: right;\">\n",
       "      <th></th>\n",
       "      <th>JournalTitle</th>\n",
       "      <th>JournalID</th>\n",
       "      <th>Publisher</th>\n",
       "      <th>pissn</th>\n",
       "      <th>eissn</th>\n",
       "      <th>additionalIssns</th>\n",
       "      <th>doi</th>\n",
       "      <th>yearissues</th>\n",
       "    </tr>\n",
       "  </thead>\n",
       "  <tbody>\n",
       "    <tr>\n",
       "      <th>17094</th>\n",
       "      <td>Cell</td>\n",
       "      <td>2421</td>\n",
       "      <td>Elsevier</td>\n",
       "      <td>00928674</td>\n",
       "      <td>NaN</td>\n",
       "      <td>NaN</td>\n",
       "      <td>NaN</td>\n",
       "      <td>\"(1973)[5]4(1974)[1]1,2,3,4[2]1,2,3,4[3]1,2,3,...</td>\n",
       "    </tr>\n",
       "  </tbody>\n",
       "</table>\n",
       "</div>"
      ],
      "text/plain": [
       "      JournalTitle  JournalID  Publisher     pissn eissn additionalIssns  doi  \\\n",
       "17094         Cell       2421  Elsevier   00928674   NaN             NaN  NaN   \n",
       "\n",
       "                                              yearissues  \n",
       "17094  \"(1973)[5]4(1974)[1]1,2,3,4[2]1,2,3,4[3]1,2,3,...  "
      ]
     },
     "execution_count": 61,
     "metadata": {},
     "output_type": "execute_result"
    }
   ],
   "source": [
    "journal_df[journal_df[\"JournalTitle\"]==\"Cell\"]"
   ]
  },
  {
   "cell_type": "code",
   "execution_count": 62,
   "metadata": {},
   "outputs": [],
   "source": [
    "def detect_lang(x):\n",
    "    try:\n",
    "        return model.predict(x)[0][0].split(\"__\")[-1]\n",
    "    except:\n",
    "        return \"unknown\""
   ]
  },
  {
   "cell_type": "code",
   "execution_count": 63,
   "metadata": {},
   "outputs": [
    {
     "name": "stdout",
     "output_type": "stream",
     "text": [
      "Cell\n"
     ]
    },
    {
     "data": {
      "text/plain": [
       "'en'"
      ]
     },
     "execution_count": 63,
     "metadata": {},
     "output_type": "execute_result"
    }
   ],
   "source": [
    "x = journal_df.iloc[17094]['JournalTitle']\n",
    "print(x)\n",
    "detect_lang(x)"
   ]
  },
  {
   "cell_type": "code",
   "execution_count": 64,
   "metadata": {},
   "outputs": [
    {
     "name": "stderr",
     "output_type": "stream",
     "text": [
      "100%|██████████| 125820/125820 [00:00<00:00, 143071.91it/s]\n"
     ]
    }
   ],
   "source": [
    "journal_df[\"language\"]  = journal_df[\"JournalTitle\"].progress_apply(detect_lang)"
   ]
  },
  {
   "cell_type": "code",
   "execution_count": 65,
   "metadata": {},
   "outputs": [
    {
     "data": {
      "text/plain": [
       "language\n",
       "en     85568\n",
       "id      7150\n",
       "es      6070\n",
       "de      6049\n",
       "fr      3630\n",
       "       ...  \n",
       "jbo        1\n",
       "mt         1\n",
       "an         1\n",
       "my         1\n",
       "als        1\n",
       "Name: count, Length: 121, dtype: int64"
      ]
     },
     "execution_count": 65,
     "metadata": {},
     "output_type": "execute_result"
    }
   ],
   "source": [
    "journal_df[\"language\"].value_counts()"
   ]
  },
  {
   "cell_type": "code",
   "execution_count": 66,
   "metadata": {},
   "outputs": [
    {
     "data": {
      "text/html": [
       "<div>\n",
       "<style scoped>\n",
       "    .dataframe tbody tr th:only-of-type {\n",
       "        vertical-align: middle;\n",
       "    }\n",
       "\n",
       "    .dataframe tbody tr th {\n",
       "        vertical-align: top;\n",
       "    }\n",
       "\n",
       "    .dataframe thead th {\n",
       "        text-align: right;\n",
       "    }\n",
       "</style>\n",
       "<table border=\"1\" class=\"dataframe\">\n",
       "  <thead>\n",
       "    <tr style=\"text-align: right;\">\n",
       "      <th></th>\n",
       "      <th>JournalTitle</th>\n",
       "      <th>JournalID</th>\n",
       "      <th>Publisher</th>\n",
       "      <th>pissn</th>\n",
       "      <th>eissn</th>\n",
       "      <th>additionalIssns</th>\n",
       "      <th>doi</th>\n",
       "      <th>yearissues</th>\n",
       "      <th>language</th>\n",
       "    </tr>\n",
       "  </thead>\n",
       "  <tbody>\n",
       "    <tr>\n",
       "      <th>16</th>\n",
       "      <td>LAWSUIT Jurnal Perpajakan</td>\n",
       "      <td>466227</td>\n",
       "      <td>Universitas Serang Raya</td>\n",
       "      <td>NaN</td>\n",
       "      <td>28280709</td>\n",
       "      <td>NaN</td>\n",
       "      <td>NaN</td>\n",
       "      <td>\"(2022)[1]1,2(2023)[2]1,2\"</td>\n",
       "      <td>id</td>\n",
       "    </tr>\n",
       "    <tr>\n",
       "      <th>53</th>\n",
       "      <td>(JEMS) Jurnal Entrepreneur dan Manajemen Sains</td>\n",
       "      <td>474746</td>\n",
       "      <td>Universitas Muhammadiyah Bengkulu</td>\n",
       "      <td>NaN</td>\n",
       "      <td>27215415</td>\n",
       "      <td>NaN</td>\n",
       "      <td>NaN</td>\n",
       "      <td>\"(2020)[1]1,2(2021)[2]1,2[3]1[](2022)[3]1,2(20...</td>\n",
       "      <td>id</td>\n",
       "    </tr>\n",
       "    <tr>\n",
       "      <th>56</th>\n",
       "      <td>(JPAP) Jurnal Praktisi Administrasi Pendidikan</td>\n",
       "      <td>423841</td>\n",
       "      <td>Universitas Mataram</td>\n",
       "      <td>25486233</td>\n",
       "      <td>25486241</td>\n",
       "      <td>NaN</td>\n",
       "      <td>NaN</td>\n",
       "      <td>(2016)[1]1(2021)[5]1</td>\n",
       "      <td>id</td>\n",
       "    </tr>\n",
       "    <tr>\n",
       "      <th>57</th>\n",
       "      <td>(Jurnal Ilmiah Mahasiswa Kesehatan Masyarakat)</td>\n",
       "      <td>379894</td>\n",
       "      <td>Fakultas Kesehatan Masyarakat Universitas Halu...</td>\n",
       "      <td>NaN</td>\n",
       "      <td>2502731X</td>\n",
       "      <td>NaN</td>\n",
       "      <td>NaN</td>\n",
       "      <td>\"(2020)[5]1,2,3,4(2021)[6]1,2,3,4(2022)[7]1,2,...</td>\n",
       "      <td>id</td>\n",
       "    </tr>\n",
       "    <tr>\n",
       "      <th>82</th>\n",
       "      <td>100 Hari Pimpinan Daerah Dewan Masjid Indonesi...</td>\n",
       "      <td>479548</td>\n",
       "      <td>PubPub</td>\n",
       "      <td>NaN</td>\n",
       "      <td>NaN</td>\n",
       "      <td>NaN</td>\n",
       "      <td>10.21428/9bc1b34a</td>\n",
       "      <td>(2022)[]()[]</td>\n",
       "      <td>id</td>\n",
       "    </tr>\n",
       "    <tr>\n",
       "      <th>...</th>\n",
       "      <td>...</td>\n",
       "      <td>...</td>\n",
       "      <td>...</td>\n",
       "      <td>...</td>\n",
       "      <td>...</td>\n",
       "      <td>...</td>\n",
       "      <td>...</td>\n",
       "      <td>...</td>\n",
       "      <td>...</td>\n",
       "    </tr>\n",
       "    <tr>\n",
       "      <th>122566</th>\n",
       "      <td>Zoonotic Diseases</td>\n",
       "      <td>460446</td>\n",
       "      <td>MDPI AG</td>\n",
       "      <td>NaN</td>\n",
       "      <td>28130227</td>\n",
       "      <td>NaN</td>\n",
       "      <td>NaN</td>\n",
       "      <td>\"(2021)[1]1(2022)[2]1,2,3,4(2023)[3]1,2,3,4[4]...</td>\n",
       "      <td>id</td>\n",
       "    </tr>\n",
       "    <tr>\n",
       "      <th>122590</th>\n",
       "      <td>Zuriah Jurnal Pendidikan Anak Usia Dini</td>\n",
       "      <td>396775</td>\n",
       "      <td>STAIN Curup</td>\n",
       "      <td>27460797</td>\n",
       "      <td>27460800</td>\n",
       "      <td>NaN</td>\n",
       "      <td>NaN</td>\n",
       "      <td>\"(2020)[1]1,2(2021)[2]1,2(2022)[3]1,2(2023)[4]...</td>\n",
       "      <td>id</td>\n",
       "    </tr>\n",
       "    <tr>\n",
       "      <th>122647</th>\n",
       "      <td>`A Jamiy Jurnal Bahasa dan Sastra Arab</td>\n",
       "      <td>363357</td>\n",
       "      <td>Universitas Muhammadiyah Gorontalo</td>\n",
       "      <td>22529926</td>\n",
       "      <td>26572206</td>\n",
       "      <td>NaN</td>\n",
       "      <td>10.31314/ajamiy</td>\n",
       "      <td>\"(2019)[6]2[7]1,2[8]1,2(2020)[9]1,2(2021)[10]1...</td>\n",
       "      <td>id</td>\n",
       "    </tr>\n",
       "    <tr>\n",
       "      <th>122648</th>\n",
       "      <td>Jurnal Abdi Masyarakat Multidisiplin</td>\n",
       "      <td>467890</td>\n",
       "      <td>Asosiasi Dosen Muda Indonesia</td>\n",
       "      <td>28290887</td>\n",
       "      <td>28290496</td>\n",
       "      <td>NaN</td>\n",
       "      <td>NaN</td>\n",
       "      <td>\"(2022)[1]1,2,3[2]1(2023)[2]1,2,3\"</td>\n",
       "      <td>id</td>\n",
       "    </tr>\n",
       "    <tr>\n",
       "      <th>124753</th>\n",
       "      <td>لســـانـنــا (LISANUNA) Jurnal Ilmu Bahasa Ara...</td>\n",
       "      <td>310288</td>\n",
       "      <td>Universitas Islam Negeri Ar-Raniry</td>\n",
       "      <td>23545577</td>\n",
       "      <td>25492802</td>\n",
       "      <td>NaN</td>\n",
       "      <td>NaN</td>\n",
       "      <td>\"(2017)[7]1,2(2018)[7]2[8]1(2019)[8]2[9]1(2020...</td>\n",
       "      <td>id</td>\n",
       "    </tr>\n",
       "  </tbody>\n",
       "</table>\n",
       "<p>7150 rows × 9 columns</p>\n",
       "</div>"
      ],
      "text/plain": [
       "                                             JournalTitle  JournalID  \\\n",
       "16                              LAWSUIT Jurnal Perpajakan     466227   \n",
       "53         (JEMS) Jurnal Entrepreneur dan Manajemen Sains     474746   \n",
       "56         (JPAP) Jurnal Praktisi Administrasi Pendidikan     423841   \n",
       "57         (Jurnal Ilmiah Mahasiswa Kesehatan Masyarakat)     379894   \n",
       "82      100 Hari Pimpinan Daerah Dewan Masjid Indonesi...     479548   \n",
       "...                                                   ...        ...   \n",
       "122566                                  Zoonotic Diseases     460446   \n",
       "122590            Zuriah Jurnal Pendidikan Anak Usia Dini     396775   \n",
       "122647             `A Jamiy Jurnal Bahasa dan Sastra Arab     363357   \n",
       "122648               Jurnal Abdi Masyarakat Multidisiplin     467890   \n",
       "124753  لســـانـنــا (LISANUNA) Jurnal Ilmu Bahasa Ara...     310288   \n",
       "\n",
       "                                                Publisher     pissn     eissn  \\\n",
       "16                                Universitas Serang Raya       NaN  28280709   \n",
       "53                      Universitas Muhammadiyah Bengkulu       NaN  27215415   \n",
       "56                                    Universitas Mataram  25486233  25486241   \n",
       "57      Fakultas Kesehatan Masyarakat Universitas Halu...       NaN  2502731X   \n",
       "82                                                 PubPub       NaN       NaN   \n",
       "...                                                   ...       ...       ...   \n",
       "122566                                            MDPI AG       NaN  28130227   \n",
       "122590                                        STAIN Curup  27460797  27460800   \n",
       "122647                 Universitas Muhammadiyah Gorontalo  22529926  26572206   \n",
       "122648                      Asosiasi Dosen Muda Indonesia  28290887  28290496   \n",
       "124753                 Universitas Islam Negeri Ar-Raniry  23545577  25492802   \n",
       "\n",
       "       additionalIssns                doi  \\\n",
       "16                 NaN                NaN   \n",
       "53                 NaN                NaN   \n",
       "56                 NaN                NaN   \n",
       "57                 NaN                NaN   \n",
       "82                 NaN  10.21428/9bc1b34a   \n",
       "...                ...                ...   \n",
       "122566             NaN                NaN   \n",
       "122590             NaN                NaN   \n",
       "122647             NaN    10.31314/ajamiy   \n",
       "122648             NaN                NaN   \n",
       "124753             NaN                NaN   \n",
       "\n",
       "                                               yearissues language  \n",
       "16                             \"(2022)[1]1,2(2023)[2]1,2\"       id  \n",
       "53      \"(2020)[1]1,2(2021)[2]1,2[3]1[](2022)[3]1,2(20...       id  \n",
       "56                                   (2016)[1]1(2021)[5]1       id  \n",
       "57      \"(2020)[5]1,2,3,4(2021)[6]1,2,3,4(2022)[7]1,2,...       id  \n",
       "82                                           (2022)[]()[]       id  \n",
       "...                                                   ...      ...  \n",
       "122566  \"(2021)[1]1(2022)[2]1,2,3,4(2023)[3]1,2,3,4[4]...       id  \n",
       "122590  \"(2020)[1]1,2(2021)[2]1,2(2022)[3]1,2(2023)[4]...       id  \n",
       "122647  \"(2019)[6]2[7]1,2[8]1,2(2020)[9]1,2(2021)[10]1...       id  \n",
       "122648                 \"(2022)[1]1,2,3[2]1(2023)[2]1,2,3\"       id  \n",
       "124753  \"(2017)[7]1,2(2018)[7]2[8]1(2019)[8]2[9]1(2020...       id  \n",
       "\n",
       "[7150 rows x 9 columns]"
      ]
     },
     "execution_count": 66,
     "metadata": {},
     "output_type": "execute_result"
    }
   ],
   "source": [
    "journal_df[journal_df[\"language\"] == \"id\"]"
   ]
  },
  {
   "cell_type": "code",
   "execution_count": 67,
   "metadata": {},
   "outputs": [
    {
     "data": {
      "text/html": [
       "<div>\n",
       "<style scoped>\n",
       "    .dataframe tbody tr th:only-of-type {\n",
       "        vertical-align: middle;\n",
       "    }\n",
       "\n",
       "    .dataframe tbody tr th {\n",
       "        vertical-align: top;\n",
       "    }\n",
       "\n",
       "    .dataframe thead th {\n",
       "        text-align: right;\n",
       "    }\n",
       "</style>\n",
       "<table border=\"1\" class=\"dataframe\">\n",
       "  <thead>\n",
       "    <tr style=\"text-align: right;\">\n",
       "      <th></th>\n",
       "      <th>JournalTitle</th>\n",
       "      <th>JournalID</th>\n",
       "      <th>Publisher</th>\n",
       "      <th>pissn</th>\n",
       "      <th>eissn</th>\n",
       "      <th>additionalIssns</th>\n",
       "      <th>doi</th>\n",
       "      <th>yearissues</th>\n",
       "      <th>language</th>\n",
       "    </tr>\n",
       "  </thead>\n",
       "  <tbody>\n",
       "  </tbody>\n",
       "</table>\n",
       "</div>"
      ],
      "text/plain": [
       "Empty DataFrame\n",
       "Columns: [JournalTitle, JournalID, Publisher, pissn, eissn, additionalIssns, doi, yearissues, language]\n",
       "Index: []"
      ]
     },
     "execution_count": 67,
     "metadata": {},
     "output_type": "execute_result"
    }
   ],
   "source": [
    "journal_df[journal_df[\"language\"] == \"unknown\"]"
   ]
  },
  {
   "cell_type": "code",
   "execution_count": 68,
   "metadata": {},
   "outputs": [
    {
     "data": {
      "text/html": [
       "<div>\n",
       "<style scoped>\n",
       "    .dataframe tbody tr th:only-of-type {\n",
       "        vertical-align: middle;\n",
       "    }\n",
       "\n",
       "    .dataframe tbody tr th {\n",
       "        vertical-align: top;\n",
       "    }\n",
       "\n",
       "    .dataframe thead th {\n",
       "        text-align: right;\n",
       "    }\n",
       "</style>\n",
       "<table border=\"1\" class=\"dataframe\">\n",
       "  <thead>\n",
       "    <tr style=\"text-align: right;\">\n",
       "      <th></th>\n",
       "      <th>JournalTitle</th>\n",
       "      <th>JournalID</th>\n",
       "      <th>Publisher</th>\n",
       "      <th>pissn</th>\n",
       "      <th>eissn</th>\n",
       "      <th>additionalIssns</th>\n",
       "      <th>doi</th>\n",
       "      <th>yearissues</th>\n",
       "      <th>language</th>\n",
       "    </tr>\n",
       "  </thead>\n",
       "  <tbody>\n",
       "    <tr>\n",
       "      <th>81436</th>\n",
       "      <td>Molecular Cell</td>\n",
       "      <td>2418</td>\n",
       "      <td>Elsevier</td>\n",
       "      <td>10972765</td>\n",
       "      <td>NaN</td>\n",
       "      <td>NaN</td>\n",
       "      <td>NaN</td>\n",
       "      <td>\"(1997)[1]1(1998)[1]2,3,4,5,6,7[2]1,2,3,4,5,6(...</td>\n",
       "      <td>en</td>\n",
       "    </tr>\n",
       "  </tbody>\n",
       "</table>\n",
       "</div>"
      ],
      "text/plain": [
       "         JournalTitle  JournalID  Publisher     pissn eissn additionalIssns  \\\n",
       "81436  Molecular Cell       2418  Elsevier   10972765   NaN             NaN   \n",
       "\n",
       "       doi                                         yearissues language  \n",
       "81436  NaN  \"(1997)[1]1(1998)[1]2,3,4,5,6,7[2]1,2,3,4,5,6(...       en  "
      ]
     },
     "execution_count": 68,
     "metadata": {},
     "output_type": "execute_result"
    }
   ],
   "source": [
    "journal_df[journal_df[\"JournalTitle\"]==\"Molecular Cell\"]"
   ]
  },
  {
   "cell_type": "code",
   "execution_count": 69,
   "metadata": {},
   "outputs": [],
   "source": [
    "journal_df[journal_df[\"language\"] == \"en\"].to_csv(\"english_journal.csv\",index=False)"
   ]
  },
  {
   "cell_type": "code",
   "execution_count": 70,
   "metadata": {},
   "outputs": [],
   "source": [
    "journal_df2 = pd.read_csv(\"english_journal.csv\")"
   ]
  },
  {
   "cell_type": "code",
   "execution_count": 74,
   "metadata": {},
   "outputs": [],
   "source": [
    "q1 = \"Publisher=='Sight and Life Foundation'\"\n",
    "journal_df2.query(q1).to_csv(\"sight_and_life.csv\",index=False)\n",
    "q2 = \"(yearissues.isnull() or yearissues=='[]')\"\n",
    "journal_df2.query(f\"not {q1} and {q2}\",engine=\"python\").to_csv(\"no_year.csv\",index=False)"
   ]
  },
  {
   "cell_type": "code",
   "execution_count": null,
   "metadata": {},
   "outputs": [],
   "source": [
    "journal_df2.query(f\"not {q1} and not {q2}\",engine=\"python\").to_csv(\"english_journal2.csv\",index=False)"
   ]
  },
  {
   "cell_type": "code",
   "execution_count": 15,
   "metadata": {},
   "outputs": [
    {
     "data": {
      "text/plain": [
       "JournalID                                                       2418\n",
       "Publisher                                                  Elsevier \n",
       "pissn                                                       10972765\n",
       "eissn                                                            NaN\n",
       "additionalIssns                                                  NaN\n",
       "doi                                                              NaN\n",
       "yearissues         \"(1997)[1]1(1998)[1]2,3,4,5,6,7[2]1,2,3,4,5,6(...\n",
       "language                                                          en\n",
       "Name: Molecular Cell, dtype: object"
      ]
     },
     "execution_count": 15,
     "metadata": {},
     "output_type": "execute_result"
    }
   ],
   "source": [
    "journal_df3 = pd.read_csv(\"english_journal_edited.csv\").drop_duplicates(subset=['JournalTitle']).set_index(\"JournalTitle\")\n",
    "journal_df3.loc[\"Molecular Cell\"]"
   ]
  },
  {
   "cell_type": "code",
   "execution_count": 16,
   "metadata": {},
   "outputs": [
    {
     "data": {
      "text/plain": [
       "Index(['Annals of the University of Craiova - Agriculture Montanology Cadastre Series ',\n",
       "       'Austin Journal of Analytical and Pharmaceutical Chemistry',\n",
       "       'Bilim scientific and pedagogical jornal',\n",
       "       'International Journal of Computer Engineering Research',\n",
       "       'Irrigated Agriculture', 'Medical & pharmaceutical journal Pulse',\n",
       "       'Music in Society The Collection of Papers',\n",
       "       'Phytomorphology Phytomorphology An International Journal of Plant Sciences',\n",
       "       'Proceedings of OilGasScientificResearchProjects Institute SOCAR',\n",
       "       'Radiation and Risk Bulletin of the National Radiation and Epidemiological Registry',\n",
       "       ...\n",
       "       'Zoophilologica', 'Zoos Print Journal', 'Zoosymposia',\n",
       "       'Zoosystematica Rossica', 'Zoosystematics and Evolution', 'Zootaxa',\n",
       "       'ZOOTEC', 'Zootechnical science of Belarus', 'Zygote',\n",
       "       'Zywnosc Nauka Technologia Jakosc/Food Science Technology Quality'],\n",
       "      dtype='object', name='JournalTitle', length=76663)"
      ]
     },
     "execution_count": 16,
     "metadata": {},
     "output_type": "execute_result"
    }
   ],
   "source": [
    "journal_df3.to_csv(\"english_journal_edited.csv\",index=False)"
   ]
  },
  {
   "cell_type": "code",
   "execution_count": 14,
   "metadata": {},
   "outputs": [],
   "source": [
    "journal_df3.to_csv(\"english_journal_edited2.csv\",index=False)"
   ]
  },
  {
   "cell_type": "code",
   "execution_count": null,
   "metadata": {},
   "outputs": [],
   "source": []
  }
 ],
 "metadata": {
  "kernelspec": {
   "display_name": ".venv",
   "language": "python",
   "name": "python3"
  },
  "language_info": {
   "codemirror_mode": {
    "name": "ipython",
    "version": 3
   },
   "file_extension": ".py",
   "mimetype": "text/x-python",
   "name": "python",
   "nbconvert_exporter": "python",
   "pygments_lexer": "ipython3",
   "version": "3.10.11"
  }
 },
 "nbformat": 4,
 "nbformat_minor": 2
}
